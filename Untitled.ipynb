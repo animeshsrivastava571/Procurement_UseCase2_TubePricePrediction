{
 "cells": [
  {
   "cell_type": "code",
   "execution_count": 9,
   "metadata": {
    "ExecuteTime": {
     "end_time": "2020-07-11T14:10:12.856551Z",
     "start_time": "2020-07-11T14:10:12.830622Z"
    }
   },
   "outputs": [
    {
     "data": {
      "text/plain": [
       "['Ani1.csv']"
      ]
     },
     "execution_count": 9,
     "metadata": {},
     "output_type": "execute_result"
    }
   ],
   "source": [
    "import os\n",
    "file_csv=[]\n",
    "for f in os.listdir(\".\"):\n",
    "        if f.endswith('.csv'):\n",
    "            file_csv.append(f)\n",
    "file_csv"
   ]
  },
  {
   "cell_type": "code",
   "execution_count": 7,
   "metadata": {
    "ExecuteTime": {
     "end_time": "2020-07-11T08:04:51.451368Z",
     "start_time": "2020-07-11T08:04:51.445386Z"
    }
   },
   "outputs": [],
   "source": [
    "import streamlit as st\n",
    "\n",
    "# import awesome_streamlit as ast\n",
    "\n",
    "\n",
    "# pylint: disable=line-too-long\n",
    "def write():\n",
    "    \"\"\"Used to write the page in the app.py file\"\"\"\n",
    "    with st.spinner(\"Loading About ...\"):\n",
    "#         ast.shared.components.title_awesome(\" - About\")\n",
    "        st.markdown(\n",
    "            \"\"\"This is the about page\n",
    "\"\"\",\n",
    "            unsafe_allow_html=True,\n",
    "        )"
   ]
  }
 ],
 "metadata": {
  "kernelspec": {
   "display_name": "Python 3",
   "language": "python",
   "name": "python3"
  },
  "language_info": {
   "codemirror_mode": {
    "name": "ipython",
    "version": 3
   },
   "file_extension": ".py",
   "mimetype": "text/x-python",
   "name": "python",
   "nbconvert_exporter": "python",
   "pygments_lexer": "ipython3",
   "version": "3.8.3"
  }
 },
 "nbformat": 4,
 "nbformat_minor": 4
}
